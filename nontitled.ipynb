{
 "cells": [
  {
   "cell_type": "code",
   "execution_count": 1,
   "id": "012920d8",
   "metadata": {},
   "outputs": [],
   "source": [
    "import pandas as pd\n",
    "import numpy as np\n"
   ]
  },
  {
   "cell_type": "code",
   "execution_count": 2,
   "id": "0e9b8d70",
   "metadata": {},
   "outputs": [],
   "source": [
    "import warnings \n",
    "\n",
    "warnings.filterwarnings(\"ignore\")"
   ]
  },
  {
   "cell_type": "code",
   "execution_count": 3,
   "id": "e20ff853",
   "metadata": {},
   "outputs": [],
   "source": [
    "d = pd.read_csv(\"Swarm_Behaviour.csv\")"
   ]
  },
  {
   "cell_type": "markdown",
   "id": "47ec25d5",
   "metadata": {},
   "source": [
    "# Preprocessing"
   ]
  },
  {
   "cell_type": "code",
   "execution_count": 3,
   "id": "6e3636f9",
   "metadata": {
    "scrolled": true
   },
   "outputs": [
    {
     "data": {
      "text/plain": [
       "0.0    15355\n",
       "1.0     7954\n",
       "Name: Swarm_Behaviour, dtype: int64"
      ]
     },
     "execution_count": 3,
     "metadata": {},
     "output_type": "execute_result"
    }
   ],
   "source": [
    "d[\"Swarm_Behaviour\"].value_counts()"
   ]
  },
  {
   "cell_type": "code",
   "execution_count": 4,
   "id": "0cd2be4f",
   "metadata": {},
   "outputs": [],
   "source": [
    "daz = d[d[\"Swarm_Behaviour\"] == 0.0]\n",
    "dao = d[d[\"Swarm_Behaviour\"] == 1.0]\n",
    "r = min(d[\"Swarm_Behaviour\"].value_counts())\n",
    "daz = daz[:r]"
   ]
  },
  {
   "cell_type": "code",
   "execution_count": 5,
   "id": "3db5f26a",
   "metadata": {
    "scrolled": true
   },
   "outputs": [
    {
     "data": {
      "text/html": [
       "<div>\n",
       "<style scoped>\n",
       "    .dataframe tbody tr th:only-of-type {\n",
       "        vertical-align: middle;\n",
       "    }\n",
       "\n",
       "    .dataframe tbody tr th {\n",
       "        vertical-align: top;\n",
       "    }\n",
       "\n",
       "    .dataframe thead th {\n",
       "        text-align: right;\n",
       "    }\n",
       "</style>\n",
       "<table border=\"1\" class=\"dataframe\">\n",
       "  <thead>\n",
       "    <tr style=\"text-align: right;\">\n",
       "      <th></th>\n",
       "      <th>x1</th>\n",
       "      <th>y1</th>\n",
       "      <th>xVel1</th>\n",
       "      <th>yVel1</th>\n",
       "      <th>xA1</th>\n",
       "      <th>yA1</th>\n",
       "      <th>xS1</th>\n",
       "      <th>yS1</th>\n",
       "      <th>xC1</th>\n",
       "      <th>yC1</th>\n",
       "      <th>...</th>\n",
       "      <th>yVel200</th>\n",
       "      <th>xA200</th>\n",
       "      <th>yA200</th>\n",
       "      <th>xS200</th>\n",
       "      <th>yS200</th>\n",
       "      <th>xC200</th>\n",
       "      <th>yC200</th>\n",
       "      <th>nAC200</th>\n",
       "      <th>nS200</th>\n",
       "      <th>Swarm_Behaviour</th>\n",
       "    </tr>\n",
       "  </thead>\n",
       "  <tbody>\n",
       "    <tr>\n",
       "      <th>10671</th>\n",
       "      <td>1228.09</td>\n",
       "      <td>854.45</td>\n",
       "      <td>-0.32</td>\n",
       "      <td>9.02</td>\n",
       "      <td>-0.04</td>\n",
       "      <td>1.0</td>\n",
       "      <td>0.0</td>\n",
       "      <td>0.0</td>\n",
       "      <td>-0.04</td>\n",
       "      <td>1.0</td>\n",
       "      <td>...</td>\n",
       "      <td>8.87</td>\n",
       "      <td>-0.11</td>\n",
       "      <td>0.99</td>\n",
       "      <td>0.0</td>\n",
       "      <td>0.0</td>\n",
       "      <td>-0.09</td>\n",
       "      <td>1.0</td>\n",
       "      <td>13</td>\n",
       "      <td>3</td>\n",
       "      <td>1.0</td>\n",
       "    </tr>\n",
       "    <tr>\n",
       "      <th>11574</th>\n",
       "      <td>-1182.85</td>\n",
       "      <td>242.12</td>\n",
       "      <td>-10.24</td>\n",
       "      <td>-11.98</td>\n",
       "      <td>-1.00</td>\n",
       "      <td>-1.0</td>\n",
       "      <td>0.0</td>\n",
       "      <td>0.0</td>\n",
       "      <td>0.00</td>\n",
       "      <td>0.0</td>\n",
       "      <td>...</td>\n",
       "      <td>-2.98</td>\n",
       "      <td>-1.00</td>\n",
       "      <td>0.00</td>\n",
       "      <td>0.0</td>\n",
       "      <td>0.0</td>\n",
       "      <td>0.00</td>\n",
       "      <td>0.0</td>\n",
       "      <td>23</td>\n",
       "      <td>0</td>\n",
       "      <td>0.0</td>\n",
       "    </tr>\n",
       "    <tr>\n",
       "      <th>7297</th>\n",
       "      <td>1136.92</td>\n",
       "      <td>-249.77</td>\n",
       "      <td>5.43</td>\n",
       "      <td>4.98</td>\n",
       "      <td>0.00</td>\n",
       "      <td>0.0</td>\n",
       "      <td>0.0</td>\n",
       "      <td>0.0</td>\n",
       "      <td>0.00</td>\n",
       "      <td>0.0</td>\n",
       "      <td>...</td>\n",
       "      <td>0.69</td>\n",
       "      <td>0.00</td>\n",
       "      <td>0.00</td>\n",
       "      <td>0.0</td>\n",
       "      <td>0.0</td>\n",
       "      <td>0.00</td>\n",
       "      <td>0.0</td>\n",
       "      <td>0</td>\n",
       "      <td>0</td>\n",
       "      <td>0.0</td>\n",
       "    </tr>\n",
       "    <tr>\n",
       "      <th>2079</th>\n",
       "      <td>-1344.86</td>\n",
       "      <td>206.53</td>\n",
       "      <td>0.20</td>\n",
       "      <td>9.58</td>\n",
       "      <td>0.08</td>\n",
       "      <td>1.0</td>\n",
       "      <td>0.0</td>\n",
       "      <td>0.0</td>\n",
       "      <td>0.03</td>\n",
       "      <td>1.0</td>\n",
       "      <td>...</td>\n",
       "      <td>9.66</td>\n",
       "      <td>-0.06</td>\n",
       "      <td>1.00</td>\n",
       "      <td>0.0</td>\n",
       "      <td>0.0</td>\n",
       "      <td>-0.06</td>\n",
       "      <td>1.0</td>\n",
       "      <td>1</td>\n",
       "      <td>0</td>\n",
       "      <td>1.0</td>\n",
       "    </tr>\n",
       "    <tr>\n",
       "      <th>10852</th>\n",
       "      <td>1392.72</td>\n",
       "      <td>-720.18</td>\n",
       "      <td>-1.09</td>\n",
       "      <td>-7.44</td>\n",
       "      <td>0.00</td>\n",
       "      <td>0.0</td>\n",
       "      <td>0.0</td>\n",
       "      <td>0.0</td>\n",
       "      <td>0.00</td>\n",
       "      <td>0.0</td>\n",
       "      <td>...</td>\n",
       "      <td>-5.70</td>\n",
       "      <td>0.00</td>\n",
       "      <td>0.00</td>\n",
       "      <td>0.0</td>\n",
       "      <td>0.0</td>\n",
       "      <td>0.00</td>\n",
       "      <td>0.0</td>\n",
       "      <td>2</td>\n",
       "      <td>0</td>\n",
       "      <td>0.0</td>\n",
       "    </tr>\n",
       "  </tbody>\n",
       "</table>\n",
       "<p>5 rows × 2401 columns</p>\n",
       "</div>"
      ],
      "text/plain": [
       "            x1      y1  xVel1  yVel1   xA1  yA1  xS1  yS1   xC1  yC1  ...  \\\n",
       "10671  1228.09  854.45  -0.32   9.02 -0.04  1.0  0.0  0.0 -0.04  1.0  ...   \n",
       "11574 -1182.85  242.12 -10.24 -11.98 -1.00 -1.0  0.0  0.0  0.00  0.0  ...   \n",
       "7297   1136.92 -249.77   5.43   4.98  0.00  0.0  0.0  0.0  0.00  0.0  ...   \n",
       "2079  -1344.86  206.53   0.20   9.58  0.08  1.0  0.0  0.0  0.03  1.0  ...   \n",
       "10852  1392.72 -720.18  -1.09  -7.44  0.00  0.0  0.0  0.0  0.00  0.0  ...   \n",
       "\n",
       "       yVel200  xA200  yA200  xS200  yS200  xC200  yC200  nAC200  nS200  \\\n",
       "10671     8.87  -0.11   0.99    0.0    0.0  -0.09    1.0      13      3   \n",
       "11574    -2.98  -1.00   0.00    0.0    0.0   0.00    0.0      23      0   \n",
       "7297      0.69   0.00   0.00    0.0    0.0   0.00    0.0       0      0   \n",
       "2079      9.66  -0.06   1.00    0.0    0.0  -0.06    1.0       1      0   \n",
       "10852    -5.70   0.00   0.00    0.0    0.0   0.00    0.0       2      0   \n",
       "\n",
       "       Swarm_Behaviour  \n",
       "10671              1.0  \n",
       "11574              0.0  \n",
       "7297               0.0  \n",
       "2079               1.0  \n",
       "10852              0.0  \n",
       "\n",
       "[5 rows x 2401 columns]"
      ]
     },
     "execution_count": 5,
     "metadata": {},
     "output_type": "execute_result"
    }
   ],
   "source": [
    "da = pd.concat([dao,daz]).sample(frac = 1)\n",
    "da.head()"
   ]
  },
  {
   "cell_type": "code",
   "execution_count": 6,
   "id": "c5ac8bab",
   "metadata": {},
   "outputs": [],
   "source": [
    "y = da[\"Swarm_Behaviour\"]\n",
    "da = da.drop(\"Swarm_Behaviour\", axis = 1)"
   ]
  },
  {
   "cell_type": "code",
   "execution_count": 7,
   "id": "b096f259",
   "metadata": {},
   "outputs": [],
   "source": [
    "from sklearn.model_selection import train_test_split"
   ]
  },
  {
   "cell_type": "code",
   "execution_count": 8,
   "id": "c6dca646",
   "metadata": {
    "scrolled": true
   },
   "outputs": [],
   "source": [
    "xtrain, xtest, ytrain, ytest = train_test_split(da,y,test_size = 0.3,random_state= 4)"
   ]
  },
  {
   "cell_type": "markdown",
   "id": "517f2d84",
   "metadata": {},
   "source": [
    "# Logistic Regression"
   ]
  },
  {
   "cell_type": "code",
   "execution_count": 9,
   "id": "6184c39e",
   "metadata": {},
   "outputs": [],
   "source": [
    "from sklearn.linear_model import LogisticRegression\n",
    "model = LogisticRegression()\n"
   ]
  },
  {
   "cell_type": "code",
   "execution_count": 10,
   "id": "cc26e124",
   "metadata": {},
   "outputs": [
    {
     "data": {
      "text/plain": [
       "LogisticRegression()"
      ]
     },
     "execution_count": 10,
     "metadata": {},
     "output_type": "execute_result"
    }
   ],
   "source": [
    "model.fit(xtrain,ytrain)"
   ]
  },
  {
   "cell_type": "code",
   "execution_count": 11,
   "id": "dbff6b07",
   "metadata": {},
   "outputs": [],
   "source": [
    "lpred = model.predict(xtest)"
   ]
  },
  {
   "cell_type": "markdown",
   "id": "99c4182a",
   "metadata": {},
   "source": [
    "## Logistic Regression metrics"
   ]
  },
  {
   "cell_type": "code",
   "execution_count": 12,
   "id": "8bc90c1b",
   "metadata": {},
   "outputs": [
    {
     "data": {
      "text/plain": [
       "array([[2059,  321],\n",
       "       [ 138, 2255]], dtype=int64)"
      ]
     },
     "execution_count": 12,
     "metadata": {},
     "output_type": "execute_result"
    }
   ],
   "source": [
    "from sklearn.metrics import confusion_matrix, classification_report\n",
    "lecm = confusion_matrix(ytest,lpred)\n",
    "lecm"
   ]
  },
  {
   "cell_type": "code",
   "execution_count": 13,
   "id": "d832be0a",
   "metadata": {
    "scrolled": true
   },
   "outputs": [
    {
     "name": "stdout",
     "output_type": "stream",
     "text": [
      "              precision    recall  f1-score   support\n",
      "\n",
      "         0.0       0.94      0.87      0.90      2380\n",
      "         1.0       0.88      0.94      0.91      2393\n",
      "\n",
      "    accuracy                           0.90      4773\n",
      "   macro avg       0.91      0.90      0.90      4773\n",
      "weighted avg       0.91      0.90      0.90      4773\n",
      "\n"
     ]
    }
   ],
   "source": [
    "lecr = classification_report(ytest,lpred)\n",
    "print(lecr)"
   ]
  },
  {
   "cell_type": "markdown",
   "id": "88b1ad73",
   "metadata": {},
   "source": [
    "# Naive-bayes"
   ]
  },
  {
   "cell_type": "code",
   "execution_count": 21,
   "id": "cce85637",
   "metadata": {},
   "outputs": [
    {
     "data": {
      "text/plain": [
       "GaussianNB()"
      ]
     },
     "execution_count": 21,
     "metadata": {},
     "output_type": "execute_result"
    }
   ],
   "source": [
    "from sklearn.naive_bayes import GaussianNB\n",
    "gnb = GaussianNB()\n",
    "gnb.fit(xtrain, ytrain)\n"
   ]
  },
  {
   "cell_type": "code",
   "execution_count": 22,
   "id": "2f8c9cd0",
   "metadata": {},
   "outputs": [],
   "source": [
    "nbpred = gnb.predict(xtest)"
   ]
  },
  {
   "cell_type": "markdown",
   "id": "f8d3556e",
   "metadata": {},
   "source": [
    "## Naive-Bayes metrics"
   ]
  },
  {
   "cell_type": "code",
   "execution_count": 23,
   "id": "13d70e30",
   "metadata": {},
   "outputs": [
    {
     "data": {
      "text/plain": [
       "array([[ 455, 1985],\n",
       "       [ 129, 2204]], dtype=int64)"
      ]
     },
     "execution_count": 23,
     "metadata": {},
     "output_type": "execute_result"
    }
   ],
   "source": [
    "bncm = confusion_matrix(ytest,nbpred)\n",
    "bncm"
   ]
  },
  {
   "cell_type": "code",
   "execution_count": 24,
   "id": "6ac4fa6a",
   "metadata": {
    "scrolled": true
   },
   "outputs": [
    {
     "name": "stdout",
     "output_type": "stream",
     "text": [
      "              precision    recall  f1-score   support\n",
      "\n",
      "         0.0       0.78      0.19      0.30      2440\n",
      "         1.0       0.53      0.94      0.68      2333\n",
      "\n",
      "    accuracy                           0.56      4773\n",
      "   macro avg       0.65      0.57      0.49      4773\n",
      "weighted avg       0.66      0.56      0.48      4773\n",
      "\n"
     ]
    }
   ],
   "source": [
    "nbcr = classification_report(ytest,nbpred)\n",
    "print(nbcr)"
   ]
  },
  {
   "cell_type": "markdown",
   "id": "99890664",
   "metadata": {},
   "source": [
    "# KNN Classifier"
   ]
  },
  {
   "cell_type": "code",
   "execution_count": 25,
   "id": "70e31135",
   "metadata": {},
   "outputs": [
    {
     "data": {
      "text/plain": [
       "KNeighborsClassifier()"
      ]
     },
     "execution_count": 25,
     "metadata": {},
     "output_type": "execute_result"
    }
   ],
   "source": [
    "from sklearn.neighbors import KNeighborsClassifier\n",
    "knn = KNeighborsClassifier(n_neighbors = 5)\n",
    "knn.fit(xtrain,ytrain)"
   ]
  },
  {
   "cell_type": "code",
   "execution_count": 26,
   "id": "1da05ff8",
   "metadata": {},
   "outputs": [],
   "source": [
    "kpred = knn.predict(xtest)"
   ]
  },
  {
   "cell_type": "markdown",
   "id": "5ffa0d81",
   "metadata": {},
   "source": [
    "## KNN metrics"
   ]
  },
  {
   "cell_type": "code",
   "execution_count": 27,
   "id": "97694077",
   "metadata": {},
   "outputs": [
    {
     "data": {
      "text/plain": [
       "array([[2155,  285],\n",
       "       [ 169, 2164]], dtype=int64)"
      ]
     },
     "execution_count": 27,
     "metadata": {},
     "output_type": "execute_result"
    }
   ],
   "source": [
    "kcm = confusion_matrix(ytest,kpred)\n",
    "kcm"
   ]
  },
  {
   "cell_type": "code",
   "execution_count": 28,
   "id": "0d2b07c2",
   "metadata": {
    "scrolled": true
   },
   "outputs": [
    {
     "name": "stdout",
     "output_type": "stream",
     "text": [
      "              precision    recall  f1-score   support\n",
      "\n",
      "         0.0       0.93      0.88      0.90      2440\n",
      "         1.0       0.88      0.93      0.91      2333\n",
      "\n",
      "    accuracy                           0.90      4773\n",
      "   macro avg       0.91      0.91      0.90      4773\n",
      "weighted avg       0.91      0.90      0.90      4773\n",
      "\n"
     ]
    }
   ],
   "source": [
    "kcr = classification_report(ytest,kpred)\n",
    "print(kcr)"
   ]
  },
  {
   "cell_type": "markdown",
   "id": "4bd07564",
   "metadata": {},
   "source": [
    "# Decision Tree Classifier"
   ]
  },
  {
   "cell_type": "code",
   "execution_count": 29,
   "id": "21c3e434",
   "metadata": {},
   "outputs": [],
   "source": [
    "from sklearn.tree import DecisionTreeClassifier\n",
    "tree= DecisionTreeClassifier(criterion='entropy', random_state=0)"
   ]
  },
  {
   "cell_type": "code",
   "execution_count": 31,
   "id": "93bb976f",
   "metadata": {},
   "outputs": [
    {
     "data": {
      "text/plain": [
       "DecisionTreeClassifier(criterion='entropy', random_state=0)"
      ]
     },
     "execution_count": 31,
     "metadata": {},
     "output_type": "execute_result"
    }
   ],
   "source": [
    "tree.fit(xtrain,ytrain)"
   ]
  },
  {
   "cell_type": "code",
   "execution_count": 32,
   "id": "b7af7b71",
   "metadata": {},
   "outputs": [],
   "source": [
    "tpred = tree.predict(xtest)"
   ]
  },
  {
   "cell_type": "markdown",
   "id": "3bfceea4",
   "metadata": {},
   "source": [
    "## Decision Tree(entropy) metrics"
   ]
  },
  {
   "cell_type": "code",
   "execution_count": 33,
   "id": "daf8e965",
   "metadata": {},
   "outputs": [
    {
     "data": {
      "text/plain": [
       "array([[2175,  265],\n",
       "       [ 330, 2003]], dtype=int64)"
      ]
     },
     "execution_count": 33,
     "metadata": {},
     "output_type": "execute_result"
    }
   ],
   "source": [
    "tcm = confusion_matrix(ytest,tpred)\n",
    "tcm"
   ]
  },
  {
   "cell_type": "code",
   "execution_count": 34,
   "id": "b52a48ea",
   "metadata": {
    "scrolled": true
   },
   "outputs": [
    {
     "name": "stdout",
     "output_type": "stream",
     "text": [
      "              precision    recall  f1-score   support\n",
      "\n",
      "         0.0       0.87      0.89      0.88      2440\n",
      "         1.0       0.88      0.86      0.87      2333\n",
      "\n",
      "    accuracy                           0.88      4773\n",
      "   macro avg       0.88      0.87      0.88      4773\n",
      "weighted avg       0.88      0.88      0.88      4773\n",
      "\n"
     ]
    }
   ],
   "source": [
    "tcr = classification_report(ytest,tpred)\n",
    "print(tcr)"
   ]
  },
  {
   "cell_type": "markdown",
   "id": "c10262ad",
   "metadata": {},
   "source": [
    "# Decision Tree with gini index"
   ]
  },
  {
   "cell_type": "code",
   "execution_count": 40,
   "id": "02fbc998",
   "metadata": {},
   "outputs": [
    {
     "data": {
      "text/plain": [
       "DecisionTreeClassifier(random_state=0)"
      ]
     },
     "execution_count": 40,
     "metadata": {},
     "output_type": "execute_result"
    }
   ],
   "source": [
    "gtree= DecisionTreeClassifier(criterion='gini', random_state=0)\n",
    "gtree.fit(xtrain,ytrain)"
   ]
  },
  {
   "cell_type": "code",
   "execution_count": 41,
   "id": "fc56d179",
   "metadata": {},
   "outputs": [],
   "source": [
    "gtpred = gtree.predict(xtest)"
   ]
  },
  {
   "cell_type": "markdown",
   "id": "a0576768",
   "metadata": {},
   "source": [
    "## Decision Tree(gini) metrics"
   ]
  },
  {
   "cell_type": "code",
   "execution_count": 42,
   "id": "0e80fe4f",
   "metadata": {},
   "outputs": [
    {
     "data": {
      "text/plain": [
       "array([[2181,  259],\n",
       "       [ 312, 2021]], dtype=int64)"
      ]
     },
     "execution_count": 42,
     "metadata": {},
     "output_type": "execute_result"
    }
   ],
   "source": [
    "gtcm = confusion_matrix(ytest,gtpred)\n",
    "gtcm"
   ]
  },
  {
   "cell_type": "code",
   "execution_count": 43,
   "id": "237d3cb7",
   "metadata": {},
   "outputs": [
    {
     "name": "stdout",
     "output_type": "stream",
     "text": [
      "              precision    recall  f1-score   support\n",
      "\n",
      "         0.0       0.87      0.89      0.88      2440\n",
      "         1.0       0.89      0.87      0.88      2333\n",
      "\n",
      "    accuracy                           0.88      4773\n",
      "   macro avg       0.88      0.88      0.88      4773\n",
      "weighted avg       0.88      0.88      0.88      4773\n",
      "\n"
     ]
    }
   ],
   "source": [
    "gtcr = classification_report(ytest,gtpred)\n",
    "print(gtcr)"
   ]
  },
  {
   "cell_type": "markdown",
   "id": "1b7db595",
   "metadata": {},
   "source": [
    "# Comparing Metrics"
   ]
  },
  {
   "cell_type": "code",
   "execution_count": 47,
   "id": "a1bf9c52",
   "metadata": {},
   "outputs": [],
   "source": [
    "from sklearn.model_selection import cross_val_score,KFold\n",
    "from sklearn.metrics import precision_score\n",
    "kf = KFold(n_splits=10)\n"
   ]
  },
  {
   "cell_type": "code",
   "execution_count": 39,
   "id": "f492c097",
   "metadata": {},
   "outputs": [],
   "source": [
    "l_cross = cross_val_score(model,da,y,cv=kf,scoring=\"f1\").mean()"
   ]
  },
  {
   "cell_type": "code",
   "execution_count": 50,
   "id": "e34b489f",
   "metadata": {},
   "outputs": [],
   "source": [
    "nb_cross = cross_val_score(gnb,da,y,cv=kf,scoring=\"f1\").mean()"
   ]
  },
  {
   "cell_type": "code",
   "execution_count": 56,
   "id": "a3b408e2",
   "metadata": {},
   "outputs": [],
   "source": [
    "knn_cross = cross_val_score(knn,da,y,cv=kf,scoring=\"f1\").mean()"
   ]
  },
  {
   "cell_type": "code",
   "execution_count": 52,
   "id": "212b282d",
   "metadata": {},
   "outputs": [],
   "source": [
    "tree_cross = cross_val_score(tree,da,y,cv=kf,scoring=\"f1\").mean()"
   ]
  },
  {
   "cell_type": "code",
   "execution_count": 59,
   "id": "2711b2bf",
   "metadata": {},
   "outputs": [],
   "source": [
    "gtree_cross = cross_val_score(gtree,da,y,cv=kf,scoring=\"f1\").mean()"
   ]
  },
  {
   "cell_type": "code",
   "execution_count": 62,
   "id": "b8c0c945",
   "metadata": {},
   "outputs": [],
   "source": [
    "acc = {\"logistic\": l_cross , \"naive-bayes\": nb_cross,\"knn\": knn_cross,\"entropy-tree\": tree_cross,\"gini-tree\": gtree_cross}"
   ]
  },
  {
   "cell_type": "code",
   "execution_count": 63,
   "id": "f94e6dac",
   "metadata": {},
   "outputs": [],
   "source": [
    "import matplotlib.pyplot as plt"
   ]
  },
  {
   "cell_type": "code",
   "execution_count": 72,
   "id": "e84c95a3",
   "metadata": {},
   "outputs": [
    {
     "data": {
      "text/plain": [
       "<BarContainer object of 5 artists>"
      ]
     },
     "execution_count": 72,
     "metadata": {},
     "output_type": "execute_result"
    },
    {
     "data": {
      "image/png": "[encoded data removed]",
      "text/plain": [
       "<Figure size 432x288 with 1 Axes>"
      ]
     },
     "metadata": {
      "needs_background": "light"
     },
     "output_type": "display_data"
    }
   ],
   "source": [
    "plt.bar(acc.keys() , acc.values(), label = acc.values() )"
   ]
  },
  {
   "cell_type": "code",
   "execution_count": null,
   "id": "52619e35",
   "metadata": {},
   "outputs": [],
   "source": []
  }
 ],
 "metadata": {
  "kernelspec": {
   "display_name": "Python 3 (ipykernel)",
   "language": "python",
   "name": "python3"
  },
  "language_info": {
   "codemirror_mode": {
    "name": "ipython",
    "version": 3
   },
   "file_extension": ".py",
   "mimetype": "text/x-python",
   "name": "python",
   "nbconvert_exporter": "python",
   "pygments_lexer": "ipython3",
   "version": "3.9.12"
  }
 },
 "nbformat": 4,
 "nbformat_minor": 5
}
